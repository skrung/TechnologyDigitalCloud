{
  "nbformat": 4,
  "nbformat_minor": 0,
  "metadata": {
    "colab": {
      "provenance": []
    },
    "kernelspec": {
      "name": "python3",
      "display_name": "Python 3"
    },
    "language_info": {
      "name": "python"
    }
  },
  "cells": [
    {
      "cell_type": "markdown",
      "source": [
        "# เอกสารแนะนำการใช้งานกู้เกิลโคแลปบอราทอรี\n",
        "\n",
        "![โรงเรียนบดินทรเดชา (สิ่งห์ สิงหเสนี)](https://th.bing.com/th?id=OIP.y6pQaTYT7kwyI6ABPnLWiAAAAA&w=150&h=150&c=8&rs=1&qlt=90&o=6&dpr=1.5&pid=3.1&rm=2)\n",
        "![จุฬาลงกรณ์มหาวิทยาลัย](https://th.bing.com/th/id/OIP.E8kkr8G_-i3MDWshZ1jhfAHaHa?w=161&h=180&c=7&r=0&o=5&dpr=1.5&pid=1.7)\n",
        "\n",
        "เขียนโดย รองศาสตราจารย์ ดร. กรุง สินอภิรมย์สราญ  \n",
        "ภาควิชาคณิตศาสตร์และวิทยาการคอมพิวเตอร์ คณะวิทยาศาสตร์ จุฬาลงกรณ์มหาวิทยาลัย\n",
        "รุ่นที่ ๑.0  \n",
        "วันที่ 26 ธันวาคม 2566  "
      ],
      "metadata": {
        "id": "UlZT2muOVHe1"
      }
    },
    {
      "cell_type": "markdown",
      "source": [
        "## &#49;. อะไรคือกู้เกิลโคแลป\n",
        "\n",
        "กู้เกิลโคแลปเป็นซอฟต์แวร์ที่ทำงานบนเว็บบราวเซอร์ ที่พัฒนาต่อยอดมาจาก [Project Jupyter](https://en.wikipedia.org/wiki/Project_Jupyter) ให้บริการแบบโต้ตอบกับผู้เขียนโปรแกรมผ่านภาษาพัฒนาโปรแกรมต่าง ๆ จัดว่าเป็นคลาวด์แบบ [PaaS](https://en.wikipedia.org/wiki/Platform_as_a_service)\n",
        "ผู้เขียนสามารถส่งคำสั่งไปที่ระบบปฏิบัติการที่ใช้งานอยู่ได้ผ่าน !*italicized text*"
      ],
      "metadata": {
        "id": "4MC0XJalVefT"
      }
    },
    {
      "cell_type": "code",
      "execution_count": null,
      "metadata": {
        "colab": {
          "base_uri": "https://localhost:8080/"
        },
        "id": "YpEJWwpIVEPP",
        "outputId": "fa89cdd0-4021-409b-96d7-5c7d1a518a66"
      },
      "outputs": [
        {
          "output_type": "stream",
          "name": "stdout",
          "text": [
            "Linux 2c7e5ee3b5cc 6.1.58+ #1 SMP PREEMPT_DYNAMIC Sat Nov 18 15:31:17 UTC 2023 x86_64 x86_64 x86_64 GNU/Linux\n"
          ]
        }
      ],
      "source": [
        "!uname -a"
      ]
    },
    {
      "cell_type": "markdown",
      "source": [
        "### &#49;.1 หลักการทำงานของกู้เกิลโคแลป\n",
        "\n",
        "ผู้ใช้งานกู้เกิลโคแลป สามารถพัฒนาโปรแกรมไป พร้อม ๆ กับการเขียนเอกสารกำกับในไฟล์เดียวกันได้ โดยกู้เกิลโคแลปหนึ่งไฟล์จัดว่าเป็นสมุดจดอิเล็กทรอนิกซ์แบบหนึ่งที่ประกอบด้วยเซลมากมาย\n",
        "\n",
        "**เซล** ในกู้เกิลโคแลปมีสองชนิดได้แก่\n",
        "* **เซลรหัส (code cell)** ใช้เขียนรหัสโปรแกรมภาษาไพทอน และแสดงผลลัพธ์ใต้เซลนี้\n",
        "* **เซลข้อความ (Text cell)** ใช้เขียนเอกสารกำกับการพัฒนาโปรแกรม  โดยเซลข้อความสนับสนุนเขียนเอกสารในรูปแบบของ Markdown, HTML, Latex\n"
      ],
      "metadata": {
        "id": "cCW8orWaWymY"
      }
    },
    {
      "cell_type": "markdown",
      "source": [
        "### &#49;.2 ตัวอย่างเซลรหัส"
      ],
      "metadata": {
        "id": "DtBrTKrZXpc8"
      }
    },
    {
      "cell_type": "code",
      "source": [
        "celsius = 32\n",
        "fahrenheit = (celsius*9/5)+32\n",
        "print(\"Degree of \", celsius, \"°C = \", fahrenheit, \"°F\")"
      ],
      "metadata": {
        "colab": {
          "base_uri": "https://localhost:8080/"
        },
        "id": "_x4ihZiWWl20",
        "outputId": "4817a4f6-bbe9-4e5b-ad20-b3f0eb685bb2"
      },
      "execution_count": null,
      "outputs": [
        {
          "output_type": "stream",
          "name": "stdout",
          "text": [
            "Degree of  32 °C =  89.6 °F\n"
          ]
        }
      ]
    },
    {
      "cell_type": "markdown",
      "source": [
        "### &#49;.3 ตัวอย่างเซลข้อความ"
      ],
      "metadata": {
        "id": "2b578VSrYm8F"
      }
    },
    {
      "cell_type": "markdown",
      "source": [
        "---\n",
        "แสดงผลลัพธ์ด้วย **Markdown**"
      ],
      "metadata": {
        "id": "JdYrPPi_YsFD"
      }
    },
    {
      "cell_type": "markdown",
      "source": [
        "แสดงผลลัพธ์ด้วย <font color=\"blue\">HTML</font>"
      ],
      "metadata": {
        "id": "ZxDji_3uY0U9"
      }
    },
    {
      "cell_type": "markdown",
      "source": [
        "แสดงผลลัพธ์ด้วย $\\LaTex$"
      ],
      "metadata": {
        "id": "IdiiP3tEY7qY"
      }
    },
    {
      "cell_type": "markdown",
      "source": [
        "## &#50;. แทนเครื่องคิดเลข\n",
        "\n",
        "โคแลปสนับสนุนการประมวลผลด้วยภาษาไพทอน ผู้เขียนสามารถพิมพ์นิพจน์ที่ต้องการคำนวณได้ในกล่องเซลรหัส"
      ],
      "metadata": {
        "id": "tOfbxtnoZtJ_"
      }
    },
    {
      "cell_type": "code",
      "source": [
        "2+4"
      ],
      "metadata": {
        "colab": {
          "base_uri": "https://localhost:8080/"
        },
        "id": "UUoHirYVYTyq",
        "outputId": "55015590-2d04-454b-ab03-f28cbe7f0f50"
      },
      "execution_count": null,
      "outputs": [
        {
          "output_type": "execute_result",
          "data": {
            "text/plain": [
              "6"
            ]
          },
          "metadata": {},
          "execution_count": 4
        }
      ]
    },
    {
      "cell_type": "markdown",
      "source": [
        "แสดงการคำนวณนิพจน์หลาย ๆ นิพจน์พร้อมกัน โดยการคั่นแต่ละนิพจน์ด้วยคอมมา"
      ],
      "metadata": {
        "id": "Bsq90QlMaHaS"
      }
    },
    {
      "cell_type": "code",
      "source": [
        "4-5, 4*3, 12/4, 2**3, 13//4, 13%4"
      ],
      "metadata": {
        "colab": {
          "base_uri": "https://localhost:8080/"
        },
        "id": "tgXfzX-DaGEl",
        "outputId": "2adbb0a3-fcee-481d-af52-f346bc0674f4"
      },
      "execution_count": null,
      "outputs": [
        {
          "output_type": "execute_result",
          "data": {
            "text/plain": [
              "(-1, 12, 3.0, 8, 3, 1)"
            ]
          },
          "metadata": {},
          "execution_count": 8
        }
      ]
    },
    {
      "cell_type": "markdown",
      "source": [
        "รวมถึงการกำหนดลำดับการคำนวณด้วยวงเล็บ"
      ],
      "metadata": {
        "id": "nzpNhyM0adgG"
      }
    },
    {
      "cell_type": "code",
      "source": [
        "2*(3+1), 4/(5+3)"
      ],
      "metadata": {
        "colab": {
          "base_uri": "https://localhost:8080/"
        },
        "id": "A7IKECL3acII",
        "outputId": "cdeba08b-b108-4e7b-b1f5-ad51307cc094"
      },
      "execution_count": null,
      "outputs": [
        {
          "output_type": "execute_result",
          "data": {
            "text/plain": [
              "(8, 0.5)"
            ]
          },
          "metadata": {},
          "execution_count": 6
        }
      ]
    },
    {
      "cell_type": "markdown",
      "source": [
        "<font color=\"red\">**ข้อควรระวัง**</font> การใช้ตัวอักขระ ^ ไม่ได้หมายถึงการยกกำลัง แต่หมายถึงการใช้ Exclusive-or กับจำนวนเต็มสองจำนวน"
      ],
      "metadata": {
        "id": "NXGG8e9pbYTC"
      }
    },
    {
      "cell_type": "code",
      "source": [
        "2^3, 2**3"
      ],
      "metadata": {
        "colab": {
          "base_uri": "https://localhost:8080/"
        },
        "id": "cT2TXxbFbl9E",
        "outputId": "bee6ce8c-2385-41a1-8ce2-beb80dea6931"
      },
      "execution_count": null,
      "outputs": [
        {
          "output_type": "execute_result",
          "data": {
            "text/plain": [
              "(1, 8)"
            ]
          },
          "metadata": {},
          "execution_count": 9
        }
      ]
    },
    {
      "cell_type": "markdown",
      "source": [
        "## &#51; แทนเครื่องคิดเลขเชิงวิทยาศาสตร์\n",
        "\n",
        "โคแลปใช้ภาษาไพทอนในการประมวลผลเป็นหลัก ดังนั้นการเรียกใช้ฟังก์ชันทางคณิตศาสตร์อื่น ๆ ต้องเรียกผ่านโมดูล math"
      ],
      "metadata": {
        "id": "UkHgj5AvarUL"
      }
    },
    {
      "cell_type": "code",
      "source": [
        "from math import *\n",
        "pi, e, sin(pi), cos(pi), log(e)"
      ],
      "metadata": {
        "colab": {
          "base_uri": "https://localhost:8080/"
        },
        "id": "K0aabdQcanNQ",
        "outputId": "273d714e-f63d-4979-b99a-d20890a30580"
      },
      "execution_count": null,
      "outputs": [
        {
          "output_type": "execute_result",
          "data": {
            "text/plain": [
              "(3.141592653589793, 2.718281828459045, 1.2246467991473532e-16, -1.0, 1.0)"
            ]
          },
          "metadata": {},
          "execution_count": 7
        }
      ]
    },
    {
      "cell_type": "markdown",
      "source": [
        "การนำเสนอด้วยกราฟ ต้องใช้ผ่านโมดูล matplotlib"
      ],
      "metadata": {
        "id": "fEM8p7sWcEHV"
      }
    },
    {
      "cell_type": "code",
      "source": [
        "import matplotlib.pyplot as plt\n",
        "angles = [0.1 * i for i in range(0, 100)]  # Angles from 0 to 10 radians\n",
        "cos_values = [cos(angle) for angle in angles]\n",
        "\n",
        "# Plotting the cosine function\n",
        "plt.figure(figsize=(8, 4))  # Adjust figure size if needed\n",
        "plt.plot(angles, cos_values, label='cosine', color='blue')\n",
        "plt.title('Plot of Cosine Function')\n",
        "plt.xlabel('Angle (radians)')\n",
        "plt.ylabel('cos(x)')\n",
        "plt.grid(True)\n",
        "plt.legend()\n",
        "plt.show()"
      ],
      "metadata": {
        "colab": {
          "base_uri": "https://localhost:8080/",
          "height": 410
        },
        "id": "YA0ptOggbMDz",
        "outputId": "827eccf6-5dd4-4775-8624-4db5cf128608"
      },
      "execution_count": null,
      "outputs": [
        {
          "output_type": "display_data",
          "data": {
            "text/plain": [
              "<Figure size 800x400 with 1 Axes>"
            ],
            "image/png": "[encoded data removed]"
          },
          "metadata": {}
        }
      ]
    },
    {
      "cell_type": "markdown",
      "source": [
        "## &#52; พัฒนาโปรแกรมภาษาไพทอน\n",
        "\n",
        "ผู้ใช้สามารถเขียนรหัสโปรแกรมภาษาไพทอนบน เซลรหัส แล้วสั่งประมวลผลได้โดยตรง"
      ],
      "metadata": {
        "id": "_OdsC9WRcpN3"
      }
    },
    {
      "cell_type": "code",
      "source": [
        "# นำข้อมูลเข้า\n",
        "x = 20\n",
        "\n",
        "# รหัสโปรแกรมภาษาไพทอนเพื่อหาหน่วยของอุณหภูมิที่รับเข้าเป็นองศาเซลเซียส แปลงเป็นองศาฟาเรนไฮต์\n",
        "y = (x*5/9)+32\n",
        "\n",
        "# แสดงผลลัพธ์ที่ได้\n",
        "print(x, \"°C = \", y, \"°F\")"
      ],
      "metadata": {
        "colab": {
          "base_uri": "https://localhost:8080/"
        },
        "id": "Ng-RLjhAci_D",
        "outputId": "17563631-375c-4f5a-84a5-ef11d44af35a"
      },
      "execution_count": null,
      "outputs": [
        {
          "output_type": "stream",
          "name": "stdout",
          "text": [
            "20 °C =  43.111111111111114 °F\n"
          ]
        }
      ]
    },
    {
      "cell_type": "code",
      "source": [
        "# ข้อมูลเข้า\n",
        "x = [7, 3, 4, 2, 6]\n",
        "\n",
        "# รหัสโปรแกรมหาค่าสูงสุด\n",
        "y = max(x)\n",
        "\n",
        "# แสดงผลลัพธ์ที่ได้\n",
        "print(\"จากรายการ \", x, ' ค่าที่สูงที่สุดคือ ', y)"
      ],
      "metadata": {
        "colab": {
          "base_uri": "https://localhost:8080/"
        },
        "id": "JceRMtx3dfFX",
        "outputId": "be118858-c10f-482d-ecb9-a46dc7b48bac"
      },
      "execution_count": null,
      "outputs": [
        {
          "output_type": "stream",
          "name": "stdout",
          "text": [
            "จากรายการ  [7, 3, 4, 2, 6]  ค่าที่สูงที่สุดคือ  7\n"
          ]
        }
      ]
    },
    {
      "cell_type": "code",
      "source": [
        "def findMaxAndIndex(List):\n",
        "  ''' findMaxAndIndex ค้นหาค่าสูงที่สุดในรายการ List พร้อมตำแหน่งใน List ดังกล่าว\n",
        "    Input:List เก็บค่าจำนวน\n",
        "    Output: (ind, value) คู่อันดับที่แสดงดัชนีและค่า\n",
        "  '''\n",
        "  ind, value = 0, List[0]\n",
        "  for i in range(1, len(List)):\n",
        "    if List[i] > value:\n",
        "      ind, value = i, List[i]\n",
        "  return (ind, value)"
      ],
      "metadata": {
        "id": "DsiHDJHxePSD"
      },
      "execution_count": null,
      "outputs": []
    },
    {
      "cell_type": "code",
      "source": [
        "# ข้อมูลเข้า\n",
        "x = [7, 3, 4, 2, 6]\n",
        "\n",
        "# รหัสโปรแกรมหาตำแหน่งที่ให้ค่าสูงสุด พร้อมค่าสูงสุดนั้น\n",
        "\n",
        "indMax, Max = findMaxAndIndex(x)\n",
        "\n",
        "# แสดงผลลัพธ์ที่ได้\n",
        "print(\"จากรายการ \", x, ' ค่าที่สูงที่สุดคือ ', Max, ' อยู่ที่ตำแหน่ง ', indMax)"
      ],
      "metadata": {
        "colab": {
          "base_uri": "https://localhost:8080/"
        },
        "id": "gKgmgimed7i7",
        "outputId": "3c77eefe-73f6-409d-9eb7-9b2372ffc32d"
      },
      "execution_count": null,
      "outputs": [
        {
          "output_type": "stream",
          "name": "stdout",
          "text": [
            "จากรายการ  [7, 3, 4, 2, 6]  ค่าที่สูงที่สุดคือ  7  อยู่ที่ตำแหน่ง  0\n"
          ]
        }
      ]
    },
    {
      "cell_type": "code",
      "source": [],
      "metadata": {
        "id": "kvgxmb1GeKnL"
      },
      "execution_count": null,
      "outputs": []
    }
  ]
}